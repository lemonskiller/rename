{
 "nbformat": 4,
 "nbformat_minor": 2,
 "metadata": {
  "language_info": {
   "name": "python",
   "codemirror_mode": {
    "name": "ipython",
    "version": 3
   },
   "version": "3.7.6-final"
  },
  "orig_nbformat": 2,
  "file_extension": ".py",
  "mimetype": "text/x-python",
  "name": "python",
  "npconvert_exporter": "python",
  "pygments_lexer": "ipython3",
  "version": 3,
  "kernelspec": {
   "name": "python361064bitpy36condaf832f4ee608f459d86cabcacfa941901",
   "display_name": "Python 3.6.10 64-bit ('py36': conda)"
  }
 },
 "cells": [
  {
   "cell_type": "code",
   "execution_count": 1,
   "metadata": {},
   "outputs": [],
   "source": [
    "import os"
   ]
  },
  {
   "cell_type": "code",
   "execution_count": 2,
   "metadata": {},
   "outputs": [],
   "source": [
    "path = 'C:/Users/lemon/Desktop/work/flip_rot/flip_rot'"
   ]
  },
  {
   "cell_type": "code",
   "execution_count": 10,
   "metadata": {},
   "outputs": [
    {
     "output_type": "execute_result",
     "data": {
      "text/plain": "['100000000.png',\n '100000000.xml',\n '100000001.png',\n '100000001.xml',\n '100000002.png',\n '100000002.xml',\n '100000003.png',\n '100000003.xml',\n '100000004.png',\n '100000004.xml',\n '100000005.png',\n '100000005.xml',\n '100000006.png',\n '100000006.xml',\n '100000007.png',\n '100000007.xml',\n '100000008.png',\n '100000008.xml',\n '100000009.png',\n '100000009.xml',\n '100000010.png',\n '100000010.xml',\n '100000011.png',\n '100000011.xml',\n '100000012.png',\n '100000012.xml',\n '100000013.png',\n '100000013.xml',\n '100000014.png',\n '100000014.xml',\n '100000015.png',\n '100000015.xml',\n '100000016.png',\n '100000016.xml',\n '100000017.png',\n '100000017.xml',\n '100000018.png',\n '100000018.xml',\n '100000019.png',\n '100000019.xml',\n '100000020.png',\n '100000020.xml',\n '100000021.png',\n '100000021.xml',\n '100000022.png',\n '100000022.xml',\n '100000023.png',\n '100000023.xml',\n '100000024.png',\n '100000024.xml',\n '100000025.png',\n '100000025.xml',\n '100000026.png',\n '100000026.xml',\n '100000027.png',\n '100000027.xml',\n '100000028.png',\n '100000028.xml',\n '100000029.png',\n '100000029.xml',\n '100000030.png',\n '100000030.xml',\n '100000031.png',\n '100000031.xml',\n '100000032.png',\n '100000032.xml',\n '100000033.png',\n '100000033.xml',\n '100000034.png',\n '100000034.xml',\n '100000035.png',\n '100000035.xml',\n '100000036.png',\n '100000036.xml',\n '100000037.png',\n '100000037.xml',\n '100000038.png',\n '100000038.xml',\n '100000039.png',\n '100000039.xml',\n '100000040.png',\n '100000040.xml',\n '100000041.png',\n '100000041.xml',\n '100000042.png',\n '100000042.xml',\n '100000043.png',\n '100000043.xml',\n '100000044.png',\n '100000044.xml',\n '100000045.png',\n '100000045.xml',\n '100000046.png',\n '100000046.xml',\n '100000047.png',\n '100000047.xml',\n '100000048.png',\n '100000048.xml',\n '100000049.png',\n '100000049.xml',\n '100000050.png',\n '100000050.xml',\n '100000051.png',\n '100000051.xml',\n '100000052.png',\n '100000052.xml',\n '100000053.png',\n '100000053.xml',\n '100000054.png',\n '100000054.xml',\n '100000055.png',\n '100000055.xml',\n '100000056.png',\n '100000056.xml',\n '100000057.png',\n '100000057.xml',\n '100000058.png',\n '100000058.xml',\n '100000059.png',\n '100000059.xml',\n '100000060.png',\n '100000060.xml',\n '100000061.png',\n '100000061.xml',\n '100000062.png',\n '100000062.xml',\n '100000063.png',\n '100000063.xml',\n '100000064.png',\n '100000064.xml',\n '100000065.png',\n '100000065.xml',\n '100000066.png',\n '100000066.xml',\n '100000067.png',\n '100000067.xml',\n '100000068.png',\n '100000068.xml',\n '100000069.png',\n '100000069.xml',\n '100000070.png',\n '100000070.xml',\n '100000071.png',\n '100000071.xml',\n '100000072.png',\n '100000072.xml',\n '100000073.png',\n '100000073.xml',\n '100000074.png',\n '100000074.xml',\n '100000075.png',\n '100000075.xml',\n '100000076.png',\n '100000076.xml',\n '100000077.png',\n '100000077.xml',\n '100000078.png',\n '100000078.xml',\n '100000079.png',\n '100000079.xml',\n '100000080.png',\n '100000080.xml',\n '100000081.png',\n '100000081.xml',\n '100000082.png',\n '100000082.xml',\n '100000083.png',\n '100000083.xml',\n '100000084.png',\n '100000084.xml',\n '100000085.png',\n '100000085.xml',\n '100000086.png',\n '100000086.xml',\n '100000087.png',\n '100000087.xml',\n '100000088.png',\n '100000088.xml',\n '100000089.png',\n '100000089.xml',\n '100000090.png',\n '100000090.xml',\n '100000091.png',\n '100000091.xml',\n '100000092.png',\n '100000092.xml',\n '100000093.png',\n '100000093.xml',\n '100000094.png',\n '100000094.xml',\n '100000095.png',\n '100000095.xml',\n '100000096.png',\n '100000096.xml',\n '100000097.png',\n '100000097.xml',\n '100000098.png',\n '100000098.xml',\n '100000099.png',\n '100000099.xml',\n '100000100.png',\n '100000100.xml',\n '100000101.png',\n '100000101.xml',\n '100000102.png',\n '100000102.xml',\n '100000103.png',\n '100000103.xml',\n '100000104.png',\n '100000104.xml',\n '100000105.png',\n '100000105.xml',\n '100000106.png',\n '100000106.xml',\n '100000107.png',\n '100000107.xml',\n '100000108.png',\n '100000108.xml',\n '100000109.png',\n '100000109.xml',\n '100000110.png',\n '100000110.xml',\n '100000111.png',\n '100000111.xml',\n '100000112.png',\n '100000112.xml',\n '100000113.png',\n '100000113.xml',\n '100000114.png',\n '100000114.xml',\n '100000115.png',\n '100000115.xml',\n '100000116.png',\n '100000116.xml',\n '100000117.png',\n '100000117.xml',\n '100000118.png',\n '100000118.xml',\n '100000119.png',\n '100000119.xml',\n '100000120.png',\n '100000120.xml',\n '100000121.png',\n '100000121.xml',\n '100000122.png',\n '100000122.xml',\n '100000123.png',\n '100000123.xml',\n '100000124.png',\n '100000124.xml',\n '100000125.png',\n '100000125.xml',\n '100000126.png',\n '100000126.xml',\n '100000127.png',\n '100000127.xml',\n '100000128.png',\n '100000128.xml',\n '100000129.png',\n '100000129.xml',\n '100000130.png',\n '100000130.xml',\n '100000131.png',\n '100000131.xml',\n '100000132.png',\n '100000132.xml',\n '100000133.png',\n '100000133.xml',\n '100000134.png',\n '100000134.xml',\n '100000135.png',\n '100000135.xml',\n '100000136.png',\n '100000136.xml',\n '100000137.png',\n '100000137.xml',\n '100000138.png',\n '100000138.xml',\n '100000139.png',\n '100000139.xml',\n '100000140.png',\n '100000140.xml',\n '100000141.png',\n '100000141.xml',\n '100000142.png',\n '100000142.xml',\n '100000143.png',\n '100000143.xml',\n '100000144.png',\n '100000144.xml',\n '100000145.png',\n '100000145.xml',\n '100000146.png',\n '100000146.xml',\n '100000147.png',\n '100000147.xml',\n '100000148.png',\n '100000148.xml',\n '100000149.png',\n '100000149.xml',\n '100000150.png',\n '100000150.xml',\n '100000151.png',\n '100000151.xml',\n '100000152.png',\n '100000152.xml',\n '100000153.png',\n '100000153.xml',\n '100000154.png',\n '100000154.xml',\n '100000155.png',\n '100000155.xml',\n '100000156.png',\n '100000156.xml',\n '100000157.png',\n '100000157.xml',\n '100000158.png',\n '100000158.xml',\n '100000159.png',\n '100000159.xml',\n '100000160.png',\n '100000160.xml',\n '100000161.png',\n '100000161.xml',\n '100000162.png',\n '100000162.xml',\n '100000163.png',\n '100000163.xml',\n '100000164.png',\n '100000164.xml',\n '100000165.png',\n '100000165.xml',\n '100000166.png',\n '100000166.xml',\n '100000167.png',\n '100000167.xml',\n '100000168.png',\n '100000168.xml',\n '100000169.png',\n '100000169.xml',\n '100000170.png',\n '100000170.xml',\n '100000171.png',\n '100000171.xml',\n '100000172.png',\n '100000172.xml',\n '100000173.png',\n '100000173.xml',\n '100000174.png',\n '100000174.xml',\n '100000175.png',\n '100000175.xml',\n '100000176.png',\n '100000176.xml',\n '100000177.png',\n '100000177.xml',\n '100000178.png',\n '100000178.xml',\n '100000179.png',\n '100000179.xml',\n '100000180.png',\n '100000180.xml',\n '100000181.png',\n '100000181.xml',\n '100000182.png',\n '100000182.xml',\n '100000183.png',\n '100000183.xml',\n '100000184.png',\n '100000184.xml',\n '100000185.png',\n '100000185.xml',\n '100000186.png',\n '100000186.xml',\n '100000187.png',\n '100000187.xml',\n '100000188.png',\n '100000188.xml',\n '100000189.png',\n '100000189.xml',\n '100000190.png',\n '100000190.xml',\n '100000191.png',\n '100000191.xml',\n '100000192.png',\n '100000192.xml',\n '100000193.png',\n '100000193.xml',\n '100000194.png',\n '100000194.xml',\n '100000195.png',\n '100000195.xml',\n '100000196.png',\n '100000196.xml',\n '100000197.png',\n '100000197.xml',\n '100000198.png',\n '100000198.xml',\n '100000199.png',\n '100000199.xml',\n '100000200.png',\n '100000200.xml',\n '100000201.png',\n '100000201.xml',\n '100000202.png',\n '100000202.xml',\n '100000203.png',\n '100000203.xml',\n '100000204.png',\n '100000204.xml',\n '100000205.png',\n '100000205.xml',\n '100000206.png',\n '100000206.xml',\n '100000207.png',\n '100000207.xml',\n '100000208.png',\n '100000208.xml',\n '100000209.png',\n '100000209.xml',\n '100000210.png',\n '100000210.xml',\n '100000211.png',\n '100000211.xml',\n '100000212.png',\n '100000212.xml',\n '100000213.png',\n '100000213.xml',\n '100000214.png',\n '100000214.xml',\n '100000215.png',\n '100000215.xml',\n '100000216.png',\n '100000216.xml',\n '100000217.png',\n '100000217.xml',\n '100000218.png',\n '100000218.xml',\n '100000219.png',\n '100000219.xml',\n '100000220.png',\n '100000220.xml',\n '100000221.png',\n '100000221.xml',\n '100000222.png',\n '100000222.xml',\n '100000223.png',\n '100000223.xml',\n '100000224.png',\n '100000224.xml',\n '100100000.png',\n '100100000.xml',\n '100100001.png',\n '100100001.xml',\n '100100002.png',\n '100100002.xml',\n '100100003.png',\n '100100003.xml',\n '100100004.png',\n '100100004.xml',\n '100100005.png',\n '100100005.xml',\n '100100006.png',\n '100100006.xml',\n '100100007.png',\n '100100007.xml',\n '100100008.png',\n '100100008.xml',\n '100100009.png',\n '100100009.xml',\n '100100010.png',\n '100100010.xml',\n '100100011.png',\n '100100011.xml',\n '100100012.png',\n '100100012.xml',\n '100100013.png',\n '100100013.xml',\n '100100014.png',\n '100100014.xml',\n '100100015.png',\n '100100015.xml',\n '100100016.png',\n '100100016.xml',\n '100100017.png',\n '100100017.xml',\n '100100018.png',\n '100100018.xml',\n '100100019.png',\n '100100019.xml',\n '100100020.png',\n '100100020.xml',\n '100100021.png',\n '100100021.xml',\n '100100022.png',\n '100100022.xml',\n '100100023.png',\n '100100023.xml',\n '100100024.png',\n '100100024.xml',\n '100100025.png',\n '100100025.xml',\n '100100026.png',\n '100100026.xml',\n '100100027.png',\n '100100027.xml',\n '100100028.png',\n '100100028.xml',\n '100100029.png',\n '100100029.xml',\n '100100030.png',\n '100100030.xml',\n '100100031.png',\n '100100031.xml',\n '100100032.png',\n '100100032.xml',\n '100100033.png',\n '100100033.xml',\n '100100034.png',\n '100100034.xml',\n '100100035.png',\n '100100035.xml',\n '100100036.png',\n '100100036.xml',\n '100100037.png',\n '100100037.xml',\n '100100038.png',\n '100100038.xml',\n '100100039.png',\n '100100039.xml',\n '100100040.png',\n '100100040.xml',\n '100100041.png',\n '100100041.xml',\n '100100042.png',\n '100100042.xml',\n '100100043.png',\n '100100043.xml',\n '100100044.png',\n '100100044.xml',\n '100100045.png',\n '100100045.xml',\n '100100046.png',\n '100100046.xml',\n '100100047.png',\n '100100047.xml',\n '100100048.png',\n '100100048.xml',\n '100100049.png',\n '100100049.xml',\n '100100050.png',\n '100100050.xml',\n '100100051.png',\n '100100051.xml',\n '100100052.png',\n '100100052.xml',\n '100100053.png',\n '100100053.xml',\n '100100054.png',\n '100100054.xml',\n '100100055.png',\n '100100055.xml',\n '100100056.png',\n '100100056.xml',\n '100100057.png',\n '100100057.xml',\n '100100058.png',\n '100100058.xml',\n '100100059.png',\n '100100059.xml',\n '100100060.png',\n '100100060.xml',\n '100100061.png',\n '100100061.xml',\n '100100062.png',\n '100100062.xml',\n '100100063.png',\n '100100063.xml',\n '100100064.png',\n '100100064.xml',\n '100100065.png',\n '100100065.xml',\n '100100066.png',\n '100100066.xml',\n '100100067.png',\n '100100067.xml',\n '100100068.png',\n '100100068.xml',\n '100100069.png',\n '100100069.xml',\n '100100070.png',\n '100100070.xml',\n '100100071.png',\n '100100071.xml',\n '100100072.png',\n '100100072.xml',\n '100100073.png',\n '100100073.xml',\n '100100074.png',\n '100100074.xml',\n '100100075.png',\n '100100075.xml',\n '100100076.png',\n '100100076.xml',\n '100100077.png',\n '100100077.xml',\n '100100078.png',\n '100100078.xml',\n '100100079.png',\n '100100079.xml',\n '100100080.png',\n '100100080.xml',\n '100100081.png',\n '100100081.xml',\n '100100082.png',\n '100100082.xml',\n '100100083.png',\n '100100083.xml',\n '100100084.png',\n '100100084.xml',\n '100100085.png',\n '100100085.xml',\n '100100086.png',\n '100100086.xml',\n '100100087.png',\n '100100087.xml',\n '100100088.png',\n '100100088.xml',\n '100100089.png',\n '100100089.xml',\n '100100090.png',\n '100100090.xml',\n '100100091.png',\n '100100091.xml',\n '100100092.png',\n '100100092.xml',\n '100100093.png',\n '100100093.xml',\n '100100094.png',\n '100100094.xml',\n '100100095.png',\n '100100095.xml',\n '100100096.png',\n '100100096.xml',\n '100100097.png',\n '100100097.xml',\n '100100098.png',\n '100100098.xml',\n '100100099.png',\n '100100099.xml',\n '100100100.png',\n '100100100.xml',\n '100100101.png',\n '100100101.xml',\n '100100102.png',\n '100100102.xml',\n '100100103.png',\n '100100103.xml',\n '100100104.png',\n '100100104.xml',\n '100100105.png',\n '100100105.xml',\n '100100106.png',\n '100100106.xml',\n '100100107.png',\n '100100107.xml',\n '100100108.png',\n '100100108.xml',\n '100100109.png',\n '100100109.xml',\n '100100110.png',\n '100100110.xml',\n '100100111.png',\n '100100111.xml',\n '100100112.png',\n '100100112.xml',\n '100100113.png',\n '100100113.xml',\n '100100114.png',\n '100100114.xml',\n '100100115.png',\n '100100115.xml',\n '100100116.png',\n '100100116.xml',\n '100100117.png',\n '100100117.xml',\n '100100118.png',\n '100100118.xml',\n '100100119.png',\n '100100119.xml',\n '100100120.png',\n '100100120.xml',\n '100100121.png',\n '100100121.xml',\n '100100122.png',\n '100100122.xml',\n '100100123.png',\n '100100123.xml',\n '100100124.png',\n '100100124.xml',\n '100100125.png',\n '100100125.xml',\n '100100126.png',\n '100100126.xml',\n '100100127.png',\n '100100127.xml',\n '100100128.png',\n '100100128.xml',\n '100100129.png',\n '100100129.xml',\n '100100130.png',\n '100100130.xml',\n '100100131.png',\n '100100131.xml',\n '100100132.png',\n '100100132.xml',\n '100100133.png',\n '100100133.xml',\n '100100134.png',\n '100100134.xml',\n '100100135.png',\n '100100135.xml',\n '100100136.png',\n '100100136.xml',\n '100100137.png',\n '100100137.xml',\n '100100138.png',\n '100100138.xml',\n '100100139.png',\n '100100139.xml',\n '100100140.png',\n '100100140.xml',\n '100100141.png',\n '100100141.xml',\n '100100142.png',\n '100100142.xml',\n '100100143.png',\n '100100143.xml',\n '100100144.png',\n '100100144.xml',\n '100100145.png',\n '100100145.xml',\n '100100146.png',\n '100100146.xml',\n '100100147.png',\n '100100147.xml',\n '100100148.png',\n '100100148.xml',\n '100100149.png',\n '100100149.xml',\n '100100150.png',\n '100100150.xml',\n '100100151.png',\n '100100151.xml',\n '100100152.png',\n '100100152.xml',\n '100100153.png',\n '100100153.xml',\n '100100154.png',\n '100100154.xml',\n '100100155.png',\n '100100155.xml',\n '100100156.png',\n '100100156.xml',\n '100100157.png',\n '100100157.xml',\n '100100158.png',\n '100100158.xml',\n '100100159.png',\n '100100159.xml',\n '100100160.png',\n '100100160.xml',\n '100100161.png',\n '100100161.xml',\n '100100162.png',\n '100100162.xml',\n '100100163.png',\n '100100163.xml',\n '100100164.png',\n '100100164.xml',\n '100100165.png',\n '100100165.xml',\n '100100166.png',\n '100100166.xml',\n '100100167.png',\n '100100167.xml',\n '100100168.png',\n '100100168.xml',\n '100100169.png',\n '100100169.xml',\n '100100170.png',\n '100100170.xml',\n '100100171.png',\n '100100171.xml',\n '100100172.png',\n '100100172.xml',\n '100100173.png',\n '100100173.xml',\n '100100174.png',\n '100100174.xml',\n '100100175.png',\n '100100175.xml',\n '100100176.png',\n '100100176.xml',\n '100100177.png',\n '100100177.xml',\n '100100178.png',\n '100100178.xml',\n '100100179.png',\n '100100179.xml',\n '100100180.png',\n '100100180.xml',\n '100100181.png',\n '100100181.xml',\n '100100182.png',\n '100100182.xml',\n '100100183.png',\n '100100183.xml',\n '100100184.png',\n '100100184.xml',\n '100100185.png',\n '100100185.xml',\n '100100186.png',\n '100100186.xml',\n '100100187.png',\n '100100187.xml',\n '100100188.png',\n '100100188.xml',\n '100100189.png',\n '100100189.xml',\n '100100190.png',\n '100100190.xml',\n '100100191.png',\n '100100191.xml',\n '100100192.png',\n '100100192.xml',\n '100100193.png',\n '100100193.xml',\n '100100194.png',\n '100100194.xml',\n '100100195.png',\n '100100195.xml',\n '100100196.png',\n '100100196.xml',\n '100100197.png',\n '100100197.xml',\n '100100198.png',\n '100100198.xml',\n '100100199.png',\n '100100199.xml',\n '100100200.png',\n '100100200.xml',\n '100100201.png',\n '100100201.xml',\n '100100202.png',\n '100100202.xml',\n '100100203.png',\n '100100203.xml',\n '100100204.png',\n '100100204.xml',\n '100100205.png',\n '100100205.xml',\n '100100206.png',\n '100100206.xml',\n '100100207.png',\n '100100207.xml',\n '100100208.png',\n '100100208.xml',\n '100100209.png',\n '100100209.xml',\n '100100210.png',\n '100100210.xml',\n '100100211.png',\n '100100211.xml',\n '100100212.png',\n '100100212.xml',\n '100100213.png',\n '100100213.xml',\n '100100214.png',\n '100100214.xml',\n '100100215.png',\n '100100215.xml',\n '100100216.png',\n '100100216.xml',\n '100100217.png',\n '100100217.xml',\n '100100218.png',\n '100100218.xml',\n '100100219.png',\n '100100219.xml',\n '100100220.png',\n '100100220.xml',\n '100100221.png',\n '100100221.xml',\n '100100222.png',\n '100100222.xml',\n '100100223.png',\n '100100223.xml',\n '100100224.png',\n '100100224.xml',\n '110000000.png',\n '110000000.xml',\n '110000001.png',\n '110000001.xml',\n '110000002.png',\n '110000002.xml',\n '110000003.png',\n '110000003.xml',\n '110000004.png',\n '110000004.xml',\n '110000005.png',\n '110000005.xml',\n '110000006.png',\n '110000006.xml',\n '110000007.png',\n '110000007.xml',\n '110000008.png',\n '110000008.xml',\n '110000009.png',\n '110000009.xml',\n '110000010.png',\n '110000010.xml',\n '110000011.png',\n '110000011.xml',\n '110000012.png',\n '110000012.xml',\n '110000013.png',\n '110000013.xml',\n '110000014.png',\n '110000014.xml',\n '110000015.png',\n '110000015.xml',\n '110000016.png',\n '110000016.xml',\n '110000017.png',\n '110000017.xml',\n '110000018.png',\n '110000018.xml',\n '110000019.png',\n '110000019.xml',\n '110000020.png',\n '110000020.xml',\n '110000021.png',\n '110000021.xml',\n '110000022.png',\n '110000022.xml',\n '110000023.png',\n '110000023.xml',\n '110000024.png',\n '110000024.xml',\n '110000025.png',\n '110000025.xml',\n '110000026.png',\n '110000026.xml',\n '110000027.png',\n '110000027.xml',\n '110000028.png',\n '110000028.xml',\n '110000029.png',\n '110000029.xml',\n '110000030.png',\n '110000030.xml',\n '110000031.png',\n '110000031.xml',\n '110000032.png',\n '110000032.xml',\n '110000033.png',\n '110000033.xml',\n '110000034.png',\n '110000034.xml',\n '110000035.png',\n '110000035.xml',\n '110000036.png',\n '110000036.xml',\n '110000037.png',\n '110000037.xml',\n '110000038.png',\n '110000038.xml',\n '110000039.png',\n '110000039.xml',\n '110000040.png',\n '110000040.xml',\n '110000041.png',\n '110000041.xml',\n '110000042.png',\n '110000042.xml',\n '110000043.png',\n '110000043.xml',\n '110000044.png',\n '110000044.xml',\n '110000045.png',\n '110000045.xml',\n '110000046.png',\n '110000046.xml',\n '110000047.png',\n '110000047.xml',\n '110000048.png',\n '110000048.xml',\n '110000049.png',\n '110000049.xml',\n ...]"
     },
     "metadata": {},
     "execution_count": 10
    }
   ],
   "source": [
    "f = os.listdir(path)\n",
    "f"
   ]
  },
  {
   "cell_type": "code",
   "execution_count": 11,
   "metadata": {},
   "outputs": [
    {
     "output_type": "execute_result",
     "data": {
      "text/plain": "2700"
     },
     "metadata": {},
     "execution_count": 11
    }
   ],
   "source": [
    "len(f)"
   ]
  },
  {
   "cell_type": "code",
   "execution_count": 44,
   "metadata": {},
   "outputs": [
    {
     "output_type": "execute_result",
     "data": {
      "text/plain": "'P10_H_100000224.png'"
     },
     "metadata": {},
     "execution_count": 44
    }
   ],
   "source": [
    "# 文件名的意义是： 阳性1+水平翻转1+顺时针0/逆时针1+角度（2位）+序号（4位）\n",
    "f[-2]"
   ]
  },
  {
   "cell_type": "code",
   "execution_count": 45,
   "metadata": {},
   "outputs": [
    {
     "output_type": "execute_result",
     "data": {
      "text/plain": "['P',\n '1',\n '0',\n '_',\n 'H',\n '_',\n '1',\n '0',\n '0',\n '0',\n '0',\n '0',\n '2',\n '2',\n '4',\n '.',\n 'p',\n 'n',\n 'g']"
     },
     "metadata": {},
     "execution_count": 45
    }
   ],
   "source": [
    "ff=list(f[-2])\n",
    "ff"
   ]
  },
  {
   "cell_type": "code",
   "execution_count": 46,
   "metadata": {},
   "outputs": [
    {
     "output_type": "execute_result",
     "data": {
      "text/plain": "['P',\n '1',\n '0',\n '_',\n 'H',\n '_',\n '1',\n '0',\n '0',\n '0',\n '0',\n '0',\n '2',\n '2',\n '4',\n '.',\n 'p',\n '2',\n 'g']"
     },
     "metadata": {},
     "execution_count": 46
    }
   ],
   "source": [
    "ff[-2]='2'\n",
    "ff"
   ]
  },
  {
   "cell_type": "code",
   "execution_count": 47,
   "metadata": {},
   "outputs": [
    {
     "output_type": "execute_result",
     "data": {
      "text/plain": "'P10_H_100000224.p2g'"
     },
     "metadata": {},
     "execution_count": 47
    }
   ],
   "source": [
    "''.join(ff)"
   ]
  },
  {
   "cell_type": "code",
   "execution_count": 48,
   "metadata": {},
   "outputs": [
    {
     "output_type": "execute_result",
     "data": {
      "text/plain": "['P',\n '1',\n '0',\n '_',\n 'H',\n '_',\n '1',\n '0',\n '0',\n '0',\n '0',\n '0',\n '2',\n '2',\n '4',\n '.',\n 'p',\n '2',\n 'g']"
     },
     "metadata": {},
     "execution_count": 48
    }
   ],
   "source": [
    "ff"
   ]
  },
  {
   "cell_type": "markdown",
   "metadata": {},
   "source": [
    "复制版"
   ]
  },
  {
   "cell_type": "code",
   "execution_count": 12,
   "metadata": {},
   "outputs": [],
   "source": [
    "path2= 'C:/Users/lemon/Desktop/work/flip_rot'\n",
    "import shutil"
   ]
  },
  {
   "cell_type": "code",
   "execution_count": 13,
   "metadata": {
    "tags": [
     "outputPrepend",
     "outputPrepend",
     "outputPrepend",
     "outputPrepend",
     "outputPrepend",
     "outputPrepend",
     "outputPrepend",
     "outputPrepend",
     "outputPrepend",
     "outputPrepend",
     "outputPrepend",
     "outputPrepend",
     "outputPrepend",
     "outputPrepend",
     "outputPrepend",
     "outputPrepend",
     "outputPrepend",
     "outputPrepend",
     "outputPrepend",
     "outputPrepend",
     "outputPrepend",
     "outputPrepend",
     "outputPrepend",
     "outputPrepend",
     "outputPrepend",
     "outputPrepend",
     "outputPrepend",
     "outputPrepend",
     "outputPrepend",
     "outputPrepend",
     "outputPrepend",
     "outputPrepend"
    ]
   },
   "outputs": [
    {
     "output_type": "stream",
     "name": "stdout",
     "text": "d name:  P10_H_100000052.xml\n--new name:  111100052.xml\nold name:  P10_H_100000053.png\n--new name:  111100053.png\nold name:  P10_H_100000053.xml\n--new name:  111100053.xml\nold name:  P10_H_100000054.png\n--new name:  111100054.png\nold name:  P10_H_100000054.xml\n--new name:  111100054.xml\nold name:  P10_H_100000055.png\n--new name:  111100055.png\nold name:  P10_H_100000055.xml\n--new name:  111100055.xml\nold name:  P10_H_100000056.png\n--new name:  111100056.png\nold name:  P10_H_100000056.xml\n--new name:  111100056.xml\nold name:  P10_H_100000057.png\n--new name:  111100057.png\nold name:  P10_H_100000057.xml\n--new name:  111100057.xml\nold name:  P10_H_100000058.png\n--new name:  111100058.png\nold name:  P10_H_100000058.xml\n--new name:  111100058.xml\nold name:  P10_H_100000059.png\n--new name:  111100059.png\nold name:  P10_H_100000059.xml\n--new name:  111100059.xml\nold name:  P10_H_100000060.png\n--new name:  111100060.png\nold name:  P10_H_100000060.xml\n--new name:  111100060.xml\nold name:  P10_H_100000061.png\n--new name:  111100061.png\nold name:  P10_H_100000061.xml\n--new name:  111100061.xml\nold name:  P10_H_100000062.png\n--new name:  111100062.png\nold name:  P10_H_100000062.xml\n--new name:  111100062.xml\nold name:  P10_H_100000063.png\n--new name:  111100063.png\nold name:  P10_H_100000063.xml\n--new name:  111100063.xml\nold name:  P10_H_100000064.png\n--new name:  111100064.png\nold name:  P10_H_100000064.xml\n--new name:  111100064.xml\nold name:  P10_H_100000065.png\n--new name:  111100065.png\nold name:  P10_H_100000065.xml\n--new name:  111100065.xml\nold name:  P10_H_100000066.png\n--new name:  111100066.png\nold name: P10_H_100000066.xml\n--new name:  111100066.xml\nold name:  P10_H_100000067.png\n--new name:  111100067.png\nold name:  P10_H_100000067.xml\n--new name:  111100067.xml\nold name:  P10_H_100000068.png\n--new name:  111100068.png\nold name:  P10_H_100000068.xml\n--new name:  111100068.xml\nold name:  P10_H_100000069.png\n--new name:  111100069.png\nold name:  P10_H_100000069.xml\n--new name:  111100069.xml\nold name:  P10_H_100000070.png\n--new name:  111100070.png\nold name:  P10_H_100000070.xml\n--new name:  111100070.xml\nold name:  P10_H_100000071.png\n--new name:  111100071.png\nold name:  P10_H_100000071.xml\n--new name:  111100071.xml\nold name:  P10_H_100000072.png\n--new name:  111100072.png\nold name:  P10_H_100000072.xml\n--new name:  111100072.xml\nold name:  P10_H_100000073.png\n--new name:  111100073.png\nold name:  P10_H_100000073.xml\n--new name:  111100073.xml\nold name:  P10_H_100000074.png\n--new name:  111100074.png\nold name:  P10_H_100000074.xml\n--new name:  111100074.xml\nold name:  P10_H_100000075.png\n--new name:  111100075.png\nold name:  P10_H_100000075.xml\n--new name:  111100075.xml\nold name:  P10_H_100000076.png\n--new name:  111100076.png\nold name:  P10_H_100000076.xml\n--new name:  111100076.xml\nold name:  P10_H_100000077.png\n--new name:  111100077.png\nold name:  P10_H_100000077.xml\n--new name:  111100077.xml\nold name:  P10_H_100000078.png\n--new name:  111100078.png\nold name:  P10_H_100000078.xml\n--new name:  111100078.xml\nold name:  P10_H_100000079.png\n--new name:  111100079.png\nold name:  P10_H_100000079.xml\n--new name:  111100079.xml\nold name:  P10_H_100000080.png\n--new name:  111100080.png\nold name: P10_H_100000080.xml\n--new name:  111100080.xml\nold name:  P10_H_100000081.png\n--new name:  111100081.png\nold name:  P10_H_100000081.xml\n--new name:  111100081.xml\nold name:  P10_H_100000082.png\n--new name:  111100082.png\nold name:  P10_H_100000082.xml\n--new name:  111100082.xml\nold name:  P10_H_100000083.png\n--new name:  111100083.png\nold name:  P10_H_100000083.xml\n--new name:  111100083.xml\nold name:  P10_H_100000084.png\n--new name:  111100084.png\nold name:  P10_H_100000084.xml\n--new name:  111100084.xml\nold name:  P10_H_100000085.png\n--new name:  111100085.png\nold name:  P10_H_100000085.xml\n--new name:  111100085.xml\nold name:  P10_H_100000086.png\n--new name:  111100086.png\nold name:  P10_H_100000086.xml\n--new name:  111100086.xml\nold name:  P10_H_100000087.png\n--new name:  111100087.png\nold name:  P10_H_100000087.xml\n--new name:  111100087.xml\nold name:  P10_H_100000088.png\n--new name:  111100088.png\nold name:  P10_H_100000088.xml\n--new name:  111100088.xml\nold name:  P10_H_100000089.png\n--new name:  111100089.png\nold name:  P10_H_100000089.xml\n--new name:  111100089.xml\nold name:  P10_H_100000090.png\n--new name:  111100090.png\nold name:  P10_H_100000090.xml\n--new name:  111100090.xml\nold name:  P10_H_100000091.png\n--new name:  111100091.png\nold name:  P10_H_100000091.xml\n--new name:  111100091.xml\nold name:  P10_H_100000092.png\n--new name:  111100092.png\nold name:  P10_H_100000092.xml\n--new name:  111100092.xml\nold name:  P10_H_100000093.png\n--new name:  111100093.png\nold name:  P10_H_100000093.xml\n--new name:  111100093.xml\nold name:  P10_H_100000094.png\n--new name:  111100094.png\nold name:  P10_H_100000094.xml\n--new name:  111100094.xml\nold name:  P10_H_100000095.png\n--new name:  111100095.png\nold name: P10_H_100000095.xml\n--new name:  111100095.xml\nold name:  P10_H_100000096.png\n--new name:  111100096.png\nold name:  P10_H_100000096.xml\n--new name:  111100096.xml\nold name:  P10_H_100000097.png\n--new name:  111100097.png\nold name:  P10_H_100000097.xml\n--new name:  111100097.xml\nold name:  P10_H_100000098.png\n--new name:  111100098.png\nold name:  P10_H_100000098.xml\n--new name:  111100098.xml\nold name:  P10_H_100000099.png\n--new name:  111100099.png\nold name:  P10_H_100000099.xml\n--new name:  111100099.xml\nold name:  P10_H_100000100.png\n--new name:  111100100.png\nold name:  P10_H_100000100.xml\n--new name:  111100100.xml\nold name:  P10_H_100000101.png\n--new name:  111100101.png\nold name:  P10_H_100000101.xml\n--new name:  111100101.xml\nold name:  P10_H_100000102.png\n--new name:  111100102.png\nold name:  P10_H_100000102.xml\n--new name:  111100102.xml\nold name:  P10_H_100000103.png\n--new name:  111100103.png\nold name:  P10_H_100000103.xml\n--new name:  111100103.xml\nold name:  P10_H_100000104.png\n--new name:  111100104.png\nold name:  P10_H_100000104.xml\n--new name:  111100104.xml\nold name:  P10_H_100000105.png\n--new name:  111100105.png\nold name:  P10_H_100000105.xml\n--new name:  111100105.xml\nold name:  P10_H_100000106.png\n--new name:  111100106.png\nold name:  P10_H_100000106.xml\n--new name:  111100106.xml\nold name:  P10_H_100000107.png\n--new name:  111100107.png\nold name:  P10_H_100000107.xml\n--new name:  111100107.xml\nold name:  P10_H_100000108.png\n--new name:  111100108.png\nold name:  P10_H_100000108.xml\n--new name:  111100108.xml\nold name:  P10_H_100000109.png\n--new name:  111100109.png\nold name:  P10_H_100000109.xml\n--new name:  111100109.xml\nold name:  P10_H_100000110.png\n--new name:  111100110.png\nold name:  P10_H_100000110.xml\n--new name:  111100110.xml\nold name:  P10_H_100000111.png\n--new name:  111100111.png\nold name:  P10_H_100000111.xml\n--new name:  111100111.xml\nold name:  P10_H_100000112.png\n--new name:  111100112.png\nold name:  P10_H_100000112.xml\n--new name:  111100112.xml\nold name: P10_H_100000113.png\n--new name:  111100113.png\nold name:  P10_H_100000113.xml\n--new name:  111100113.xml\nold name:  P10_H_100000114.png\n--new name:  111100114.png\nold name:  P10_H_100000114.xml\n--new name:  111100114.xml\nold name:  P10_H_100000115.png\n--new name:  111100115.png\nold name:  P10_H_100000115.xml\n--new name:  111100115.xml\nold name:  P10_H_100000116.png\n--new name:  111100116.png\nold name:  P10_H_100000116.xml\n--new name:  111100116.xml\nold name:  P10_H_100000117.png\n--new name:  111100117.png\nold name:  P10_H_100000117.xml\n--new name:  111100117.xml\nold name:  P10_H_100000118.png\n--new name:  111100118.png\nold name:  P10_H_100000118.xml\n--new name:  111100118.xml\nold name:  P10_H_100000119.png\n--new name:  111100119.png\nold name:  P10_H_100000119.xml\n--new name:  111100119.xml\nold name:  P10_H_100000120.png\n--new name:  111100120.png\nold name:  P10_H_100000120.xml\n--new name:  111100120.xml\nold name:  P10_H_100000121.png\n--new name:  111100121.png\nold name:  P10_H_100000121.xml\n--new name:  111100121.xml\nold name:  P10_H_100000122.png\n--new name:  111100122.png\nold name:  P10_H_100000122.xml\n--new name:  111100122.xml\nold name:  P10_H_100000123.png\n--new name:  111100123.png\nold name:  P10_H_100000123.xml\n--new name:  111100123.xml\nold name:  P10_H_100000124.png\n--new name:  111100124.png\nold name:  P10_H_100000124.xml\n--new name:  111100124.xml\nold name:  P10_H_100000125.png\n--new name:  111100125.png\nold name:  P10_H_100000125.xml\n--new name:  111100125.xml\nold name:  P10_H_100000126.png\n--new name:  111100126.png\nold name:  P10_H_100000126.xml\n--new name:  111100126.xml\nold name:  P10_H_100000127.png\n--new name:  111100127.png\nold name:  P10_H_100000127.xml\n--new name:  111100127.xml\nold name:  P10_H_100000128.png\n--new name:  111100128.png\nold name:  P10_H_100000128.xml\n--new name:  111100128.xml\nold name:  P10_H_100000129.png\n--new name:  111100129.png\nold name: P10_H_100000129.xml\n--new name:  111100129.xml\nold name:  P10_H_100000130.png\n--new name:  111100130.png\nold name:  P10_H_100000130.xml\n--new name:  111100130.xml\nold name:  P10_H_100000131.png\n--new name:  111100131.png\nold name:  P10_H_100000131.xml\n--new name:  111100131.xml\nold name:  P10_H_100000132.png\n--new name:  111100132.png\nold name:  P10_H_100000132.xml\n--new name:  111100132.xml\nold name:  P10_H_100000133.png\n--new name:  111100133.png\nold name:  P10_H_100000133.xml\n--new name:  111100133.xml\nold name:  P10_H_100000134.png\n--new name:  111100134.png\nold name:  P10_H_100000134.xml\n--new name:  111100134.xml\nold name:  P10_H_100000135.png\n--new name:  111100135.png\nold name:  P10_H_100000135.xml\n--new name:  111100135.xml\nold name:  P10_H_100000136.png\n--new name:  111100136.png\nold name:  P10_H_100000136.xml\n--new name:  111100136.xml\nold name:  P10_H_100000137.png\n--new name:  111100137.png\nold name:  P10_H_100000137.xml\n--new name:  111100137.xml\nold name:  P10_H_100000138.png\n--new name:  111100138.png\nold name:  P10_H_100000138.xml\n--new name:  111100138.xml\nold name:  P10_H_100000139.png\n--new name:  111100139.png\nold name:  P10_H_100000139.xml\n--new name:  111100139.xml\nold name:  P10_H_100000140.png\n--new name:  111100140.png\nold name:  P10_H_100000140.xml\n--new name:  111100140.xml\nold name:  P10_H_100000141.png\n--new name:  111100141.png\nold name:  P10_H_100000141.xml\n--new name:  111100141.xml\nold name:  P10_H_100000142.png\n--new name:  111100142.png\nold name:  P10_H_100000142.xml\n--new name:  111100142.xml\nold name:  P10_H_100000143.png\n--new name:  111100143.png\nold name:  P10_H_100000143.xml\n--new name:  111100143.xml\nold name:  P10_H_100000144.png\n--new name:  111100144.png\nold name:  P10_H_100000144.xml\n--new name:  111100144.xml\nold name:  P10_H_100000145.png\n--new name:  111100145.png\nold name:  P10_H_100000145.xml\n--new name:  111100145.xml\nold name:  P10_H_100000146.png\n--new name:  111100146.png\nold name:  P10_H_100000146.xml\n--new name:  111100146.xml\nold name:  P10_H_100000147.png\n--new name:  111100147.png\nold name:  P10_H_100000147.xml\n--new name:  111100147.xml\nold name:  P10_H_100000148.png\n--new name:  111100148.png\nold name:  P10_H_100000148.xml\n--new name:  111100148.xml\nold name:  P10_H_100000149.png\n--new name:  111100149.png\nold name:  P10_H_100000149.xml\n--new name:  111100149.xml\nold name:  P10_H_100000150.png\n--new name:  111100150.png\nold name:  P10_H_100000150.xml\n--new name:  111100150.xml\nold name:  P10_H_100000151.png\n--new name:  111100151.png\nold name:  P10_H_100000151.xml\n--new name:  111100151.xml\nold name:  P10_H_100000152.png\n--new name:  111100152.png\nold name:  P10_H_100000152.xml\n--new name:  111100152.xml\nold name:  P10_H_100000153.png\n--new name:  111100153.png\nold name:  P10_H_100000153.xml\n--new name:  111100153.xml\nold name:  P10_H_100000154.png\n--new name:  111100154.png\nold name:  P10_H_100000154.xml\n--new name:  111100154.xml\nold name:  P10_H_100000155.png\n--new name:  111100155.png\nold name:  P10_H_100000155.xml\n--new name:  111100155.xml\nold name:  P10_H_100000156.png\n--new name:  111100156.png\nold name:  P10_H_100000156.xml\n--new name:  111100156.xml\nold name:  P10_H_100000157.png\n--new name:  111100157.png\nold name:  P10_H_100000157.xml\n--new name:  111100157.xml\nold name:  P10_H_100000158.png\n--new name:  111100158.png\nold name:  P10_H_100000158.xml\n--new name:  111100158.xml\nold name:  P10_H_100000159.png\n--new name:  111100159.png\nold name:  P10_H_100000159.xml\n--new name:  111100159.xml\nold name:  P10_H_100000160.png\n--new name:  111100160.png\nold name:  P10_H_100000160.xml\n--new name:  111100160.xml\nold name:  P10_H_100000161.png\n--new name:  111100161.png\nold name: P10_H_100000161.xml\n--new name:  111100161.xml\nold name:  P10_H_100000162.png\n--new name:  111100162.png\nold name:  P10_H_100000162.xml\n--new name:  111100162.xml\nold name:  P10_H_100000163.png\n--new name:  111100163.png\nold name:  P10_H_100000163.xml\n--new name:  111100163.xml\nold name:  P10_H_100000164.png\n--new name:  111100164.png\nold name:  P10_H_100000164.xml\n--new name:  111100164.xml\nold name:  P10_H_100000165.png\n--new name:  111100165.png\nold name:  P10_H_100000165.xml\n--new name:  111100165.xml\nold name:  P10_H_100000166.png\n--new name:  111100166.png\nold name:  P10_H_100000166.xml\n--new name:  111100166.xml\nold name:  P10_H_100000167.png\n--new name:  111100167.png\nold name:  P10_H_100000167.xml\n--new name:  111100167.xml\nold name:  P10_H_100000168.png\n--new name:  111100168.png\nold name:  P10_H_100000168.xml\n--new name:  111100168.xml\nold name:  P10_H_100000169.png\n--new name:  111100169.png\nold name:  P10_H_100000169.xml\n--new name:  111100169.xml\nold name:  P10_H_100000170.png\n--new name:  111100170.png\nold name:  P10_H_100000170.xml\n--new name:  111100170.xml\nold name:  P10_H_100000171.png\n--new name:  111100171.png\nold name:  P10_H_100000171.xml\n--new name:  111100171.xml\nold name: P10_H_100000172.png\n--new name:  111100172.png\nold name:  P10_H_100000172.xml\n--new name:  111100172.xml\nold name:  P10_H_100000173.png\n--new name:  111100173.png\nold name:  P10_H_100000173.xml\n--new name:  111100173.xml\nold name:  P10_H_100000174.png\n--new name:  111100174.png\nold name:  P10_H_100000174.xml\n--new name:  111100174.xml\nold name:  P10_H_100000175.png\n--new name:  111100175.png\nold name:  P10_H_100000175.xml\n--new name:  111100175.xml\nold name:  P10_H_100000176.png\n--new name:  111100176.png\nold name:  P10_H_100000176.xml\n--new name:  111100176.xml\nold name:  P10_H_100000177.png\n--new name:  111100177.png\nold name:  P10_H_100000177.xml\n--new name:  111100177.xml\nold name:  P10_H_100000178.png\n--new name:  111100178.png\nold name:  P10_H_100000178.xml\n--new name:  111100178.xml\nold name:  P10_H_100000179.png\n--new name:  111100179.png\nold name:  P10_H_100000179.xml\n--new name:  111100179.xml\nold name:  P10_H_100000180.png\n--new name:  111100180.png\nold name:  P10_H_100000180.xml\n--new name:  111100180.xml\nold name:  P10_H_100000181.png\n--new name:  111100181.png\nold name:  P10_H_100000181.xml\n--new name:  111100181.xml\nold name: P10_H_100000182.png\n--new name:  111100182.png\nold name:  P10_H_100000182.xml\n--new name:  111100182.xml\nold name:  P10_H_100000183.png\n--new name:  111100183.png\nold name:  P10_H_100000183.xml\n--new name:  111100183.xml\nold name:  P10_H_100000184.png\n--new name:  111100184.png\nold name:  P10_H_100000184.xml\n--new name:  111100184.xml\nold name:  P10_H_100000185.png\n--new name:  111100185.png\nold name:  P10_H_100000185.xml\n--new name:  111100185.xml\nold name:  P10_H_100000186.png\n--new name:  111100186.png\nold name:  P10_H_100000186.xml\n--new name:  111100186.xml\nold name:  P10_H_100000187.png\n--new name:  111100187.png\nold name:  P10_H_100000187.xml\n--new name:  111100187.xml\nold name:  P10_H_100000188.png\n--new name:  111100188.png\nold name:  P10_H_100000188.xml\n--new name:  111100188.xml\nold name:  P10_H_100000189.png\n--new name:  111100189.png\nold name:  P10_H_100000189.xml\n--new name:  111100189.xml\nold name:  P10_H_100000190.png\n--new name:  111100190.png\nold name:  P10_H_100000190.xml\n--new name:  111100190.xml\nold name:  P10_H_100000191.png\n--new name:  111100191.png\nold name:  P10_H_100000191.xml\n--new name:  111100191.xml\nold name:  P10_H_100000192.png\n--new name:  111100192.png\nold name:  P10_H_100000192.xml\n--new name:  111100192.xml\nold name:  P10_H_100000193.png\n--new name:  111100193.png\nold name:  P10_H_100000193.xml\n--new name:  111100193.xml\nold name:  P10_H_100000194.png\n--new name:  111100194.png\nold name:  P10_H_100000194.xml\n--new name:  111100194.xml\nold name:  P10_H_100000195.png\n--new name:  111100195.png\nold name:  P10_H_100000195.xml\n--new name:  111100195.xml\nold name:  P10_H_100000196.png\n--new name:  111100196.png\nold name:  P10_H_100000196.xml\n--new name:  111100196.xml\nold name:  P10_H_100000197.png\n--new name:  111100197.png\nold name:  P10_H_100000197.xml\n--new name:  111100197.xml\nold name:  P10_H_100000198.png\n--new name:  111100198.png\nold name:  P10_H_100000198.xml\n--new name:  111100198.xml\nold name:  P10_H_100000199.png\n--new name:  111100199.png\nold name:  P10_H_100000199.xml\n--new name:  111100199.xml\nold name:  P10_H_100000200.png\n--new name:  111100200.png\nold name:  P10_H_100000200.xml\n--new name:  111100200.xml\nold name:  P10_H_100000201.png\n--new name:  111100201.png\nold name:  P10_H_100000201.xml\n--new name:  111100201.xml\nold name:  P10_H_100000202.png\n--new name:  111100202.png\nold name:  P10_H_100000202.xml\n--new name:  111100202.xml\nold name:  P10_H_100000203.png\n--new name:  111100203.png\nold name:  P10_H_100000203.xml\n--new name:  111100203.xml\nold name:  P10_H_100000204.png\n--new name:  111100204.png\nold name:  P10_H_100000204.xml\n--new name:  111100204.xml\nold name:  P10_H_100000205.png\n--new name:  111100205.png\nold name:  P10_H_100000205.xml\n--new name:  111100205.xml\nold name:  P10_H_100000206.png\n--new name:  111100206.png\nold name:  P10_H_100000206.xml\n--new name:  111100206.xml\nold name:  P10_H_100000207.png\n--new name:  111100207.png\nold name:  P10_H_100000207.xml\n--new name:  111100207.xml\nold name:  P10_H_100000208.png\n--new name:  111100208.png\nold name:  P10_H_100000208.xml\n--new name:  111100208.xml\nold name:  P10_H_100000209.png\n--new name:  111100209.png\nold name:  P10_H_100000209.xml\n--new name:  111100209.xml\nold name:  P10_H_100000210.png\n--new name:  111100210.png\nold name:  P10_H_100000210.xml\n--new name:  111100210.xml\nold name:  P10_H_100000211.png\n--new name:  111100211.png\nold name:  P10_H_100000211.xml\n--new name:  111100211.xml\nold name:  P10_H_100000212.png\n--new name:  111100212.png\nold name:  P10_H_100000212.xml\n--new name:  111100212.xml\nold name:  P10_H_100000213.png\n--new name:  111100213.png\nold name:  P10_H_100000213.xml\n--new name:  111100213.xml\nold name:  P10_H_100000214.png\n--new name:  111100214.png\nold name:  P10_H_100000214.xml\n--new name:  111100214.xml\nold name:  P10_H_100000215.png\n--new name:  111100215.png\nold name:  P10_H_100000215.xml\n--new name:  111100215.xml\nold name:  P10_H_100000216.png\n--new name:  111100216.png\nold name:  P10_H_100000216.xml\n--new name:  111100216.xml\nold name:  P10_H_100000217.png\n--new name:  111100217.png\nold name:  P10_H_100000217.xml\n--new name:  111100217.xml\nold name:  P10_H_100000218.png\n--new name:  111100218.png\nold name:  P10_H_100000218.xml\n--new name:  111100218.xml\nold name:  P10_H_100000219.png\n--new name:  111100219.png\nold name:  P10_H_100000219.xml\n--new name:  111100219.xml\nold name:  P10_H_100000220.png\n--new name:  111100220.png\nold name:  P10_H_100000220.xml\n--new name:  111100220.xml\nold name:  P10_H_100000221.png\n--new name:  111100221.png\nold name:  P10_H_100000221.xml\n--new name:  111100221.xml\nold name:  P10_H_100000222.png\n--new name:  111100222.png\nold name:  P10_H_100000222.xml\n--new name:  111100222.xml\nold name:  P10_H_100000223.png\n--new name:  111100223.png\nold name:  P10_H_100000223.xml\n--new name:  111100223.xml\nold name:  P10_H_100000224.png\n--new name:  111100224.png\nold name:  P10_H_100000224.xml\n--new name:  111100224.xml\n"
    }
   ],
   "source": [
    "\n",
    "for fi in f:\n",
    "    if 'P10_H_' in fi: #逆时针变1\n",
    "        old_name = path+'/'+fi\n",
    "        print('old name: ',fi)\n",
    "        tmp = list(fi)\n",
    "        # 改角度\n",
    "        tmp[-4-4-2]='1'\n",
    "        tmp[-4-4-2-1]='1' #逆时针为 1\n",
    "        # 改翻转\n",
    "        tmp[-4-4-2-1-1]='1'\n",
    "        tmp = ''.join(tmp)\n",
    "        tmp = tmp.replace('P10_H_','')\n",
    "        print('--new name: ',tmp)\n",
    "        # os.chdir(path)\n",
    "        # new_name = path+'/'+tmp\n",
    "        # os.rename(old_name,new_name)\n",
    "        #复制\n",
    "        new_name = path2+'/'+tmp\n",
    "        # shutil.copyfile(old_name, new_name)\n",
    "        \n",
    "\n",
    "    elif 'P-10_H_' in fi: #顺时针不变\n",
    "        old_name = path+'/'+fi\n",
    "        print('old name: ',fi)\n",
    "        tmp = list(fi)\n",
    "        # 改角度\n",
    "        tmp[-4-4-2]='1'\n",
    "        # 改翻转\n",
    "        tmp[-4-4-2-1-1]='1'\n",
    "        tmp = ''.join(tmp)\n",
    "        tmp = tmp.replace('P-10_H_','')\n",
    "        print('--new name: ',tmp)\n",
    "        # os.chdir(path)\n",
    "        # new_name = path+'/'+tmp\n",
    "        # os.rename(old_name,new_name)\n",
    "        #复制\n",
    "        new_name = path2+'/'+tmp\n",
    "        # shutil.copyfile(old_name, new_name)\n",
    "\n",
    "    elif 'P-10_' in fi: #顺时针不变\n",
    "        old_name = path+'/'+fi\n",
    "        print('old name: ',fi)\n",
    "        tmp = list(fi)\n",
    "        # 改角度\n",
    "        tmp[-4-4-2]='1'\n",
    "        tmp = ''.join(tmp)\n",
    "        tmp = tmp.replace('P-10_','')\n",
    "        print('--new name: ',tmp)\n",
    "        # os.chdir(path)\n",
    "        # new_name = path+'/'+tmp\n",
    "        # os.rename(old_name,new_name)\n",
    "        #复制\n",
    "        new_name = path2+'/'+tmp\n",
    "        # shutil.copyfile(old_name, new_name)\n",
    "\n",
    "    elif 'P10_' in fi: #逆时针变1\n",
    "        old_name = path+'/'+fi\n",
    "        print('old name: ',fi)\n",
    "        tmp = list(fi)\n",
    "        # 改角度\n",
    "        tmp[-4-4-2]='1'\n",
    "        tmp[-4-4-2-1]='1' #逆时针为 1\n",
    "        tmp = ''.join(tmp)\n",
    "        tmp = tmp.replace('P10_','')\n",
    "        print('--new name: ',tmp)\n",
    "        # os.chdir(path)\n",
    "        # new_name = path+'/'+tmp\n",
    "        # os.rename(old_name,new_name)\n",
    "        #复制\n",
    "        new_name = path2+'/'+tmp\n",
    "        # shutil.copyfile(old_name, new_name)\n",
    "    \n",
    "\n",
    "    elif 'H_' in fi: #水平翻转\n",
    "        old_name = path+'/'+fi\n",
    "        print('old name: ',fi)\n",
    "        tmp = list(fi)\n",
    "        # 改翻转\n",
    "        tmp[-4-4-2-1-1]='1'\n",
    "        tmp = ''.join(tmp)\n",
    "        tmp = tmp.replace('H_','')\n",
    "        print('--new name: ',tmp)\n",
    "        # os.chdir(path)\n",
    "        # new_name = path+'/'+tmp\n",
    "        # os.rename(old_name,new_name)\n",
    "        #复制\n",
    "        new_name = path2+'/'+tmp\n",
    "        # shutil.copyfile(old_name, new_name)\n",
    "\n",
    "    else:\n",
    "        old_name = path+'/'+fi\n",
    "        new_name = path2+'/'+fi\n",
    "    shutil.copyfile(old_name, new_name)\n",
    "\n",
    "    "
   ]
  },
  {
   "cell_type": "markdown",
   "metadata": {},
   "source": [
    "重命名版报错"
   ]
  },
  {
   "cell_type": "code",
   "execution_count": 14,
   "metadata": {
    "tags": [
     "outputPrepend",
     "outputPrepend",
     "outputPrepend",
     "outputPrepend",
     "outputPrepend",
     "outputPrepend",
     "outputPrepend",
     "outputPrepend",
     "outputPrepend"
    ]
   },
   "outputs": [
    {
     "output_type": "stream",
     "name": "stdout",
     "text": ":  P10_H_100000052.xml\n--new name:  111100052.xml\nold name:  P10_H_100000053.png\n--new name:  111100053.png\nold name:  P10_H_100000053.xml\n--new name:  111100053.xml\nold name:  P10_H_100000054.png\n--new name:  111100054.png\nold name:  P10_H_100000054.xml\n--new name:  111100054.xml\nold name:  P10_H_100000055.png\n--new name:  111100055.png\nold name:  P10_H_100000055.xml\n--new name:  111100055.xml\nold name:  P10_H_100000056.png\n--new name:  111100056.png\nold name:  P10_H_100000056.xml\n--new name:  111100056.xml\nold name:  P10_H_100000057.png\n--new name:  111100057.png\nold name:  P10_H_100000057.xml\n--new name:  111100057.xml\nold name:  P10_H_100000058.png\n--new name:  111100058.png\nold name:  P10_H_100000058.xml\n--new name:  111100058.xml\nold name:  P10_H_100000059.png\n--new name:  111100059.png\nold name:  P10_H_100000059.xml\n--new name:  111100059.xml\nold name:  P10_H_100000060.png\n--new name:  111100060.png\nold name:  P10_H_100000060.xml\n--new name:  111100060.xml\nold name:  P10_H_100000061.png\n--new name:  111100061.png\nold name:  P10_H_100000061.xml\n--new name:  111100061.xml\nold name:  P10_H_100000062.png\n--new name:  111100062.png\nold name:  P10_H_100000062.xml\n--new name:  111100062.xml\nold name:  P10_H_100000063.png\n--new name:  111100063.png\nold name:  P10_H_100000063.xml\n--new name:  111100063.xml\nold name:  P10_H_100000064.png\n--new name:  111100064.png\nold name:  P10_H_100000064.xml\n--new name:  111100064.xml\nold name:  P10_H_100000065.png\n--new name:  111100065.png\nold name:  P10_H_100000065.xml\n--new name:  111100065.xml\nold name:  P10_H_100000066.png\n--new name:  111100066.png\nold name:  P10_H_100000066.xml\n--new name:  111100066.xml\nold name:  P10_H_100000067.png\n--new name:  111100067.png\nold name:  P10_H_100000067.xml\n--new name:  111100067.xml\nold name:  P10_H_100000068.png\n--new name:  111100068.png\nold name:  P10_H_100000068.xml\n--new name:  111100068.xml\nold name:  P10_H_100000069.png\n--new name:  111100069.png\nold name:  P10_H_100000069.xml\n--new name:  111100069.xml\nold name:  P10_H_100000070.png\n--new name:  111100070.png\nold name:  P10_H_100000070.xml\n--new name:  111100070.xml\nold name:  P10_H_100000071.png\n--new name:  111100071.png\nold name:  P10_H_100000071.xml\n--new name:  111100071.xml\nold name:  P10_H_100000072.png\n--new name:  111100072.png\nold name:  P10_H_100000072.xml\n--new name:  111100072.xml\nold name:  P10_H_100000073.png\n--new name:  111100073.png\nold name:  P10_H_100000073.xml\n--new name:  111100073.xml\nold name:  P10_H_100000074.png\n--new name:  111100074.png\nold name:  P10_H_100000074.xml\n--new name:  111100074.xml\nold name:  P10_H_100000075.png\n--new name:  111100075.png\nold name:  P10_H_100000075.xml\n--new name:  111100075.xml\nold name:  P10_H_100000076.png\n--new name:  111100076.png\nold name:  P10_H_100000076.xml\n--new name:  111100076.xml\nold name:  P10_H_100000077.png\n--new name:  111100077.png\nold name:  P10_H_100000077.xml\n--new name:  111100077.xml\nold name:  P10_H_100000078.png\n--new name:  111100078.png\nold name:  P10_H_100000078.xml\n--new name:  111100078.xml\nold name:  P10_H_100000079.png\n--new name:  111100079.png\nold name:  P10_H_100000079.xml\n--new name:  111100079.xml\nold name:  P10_H_100000080.png\n--new name:  111100080.png\nold name:  P10_H_100000080.xml\n--new name:  111100080.xml\nold name:  P10_H_100000081.png\n--new name:  111100081.png\nold name:  P10_H_100000081.xml\n--new name:  111100081.xml\nold name:  P10_H_100000082.png\n--new name:  111100082.png\nold name:  P10_H_100000082.xml\n--new name:  111100082.xml\nold name:  P10_H_100000083.png\n--new name:  111100083.png\nold name:  P10_H_100000083.xml\n--new name:  111100083.xml\nold name:  P10_H_100000084.png\n--new name:  111100084.png\nold name:  P10_H_100000084.xml\n--new name:  111100084.xml\nold name:  P10_H_100000085.png\n--new name:  111100085.png\nold name:  P10_H_100000085.xml\n--new name:  111100085.xml\nold name:  P10_H_100000086.png\n--new name:  111100086.png\nold name:  P10_H_100000086.xml\n--new name:  111100086.xml\nold name:  P10_H_100000087.png\n--new name:  111100087.png\nold name:  P10_H_100000087.xml\n--new name:  111100087.xml\nold name:  P10_H_100000088.png\n--new name:  111100088.png\nold name:  P10_H_100000088.xml\n--new name:  111100088.xml\nold name:  P10_H_100000089.png\n--new name:  111100089.png\nold name:  P10_H_100000089.xml\n--new name:  111100089.xml\nold name:  P10_H_100000090.png\n--new name:  111100090.png\nold name:  P10_H_100000090.xml\n--new name:  111100090.xml\nold name:  P10_H_100000091.png\n--new name:  111100091.png\nold name:  P10_H_100000091.xml\n--new name:  111100091.xml\nold name:  P10_H_100000092.png\n--new name:  111100092.png\nold name:  P10_H_100000092.xml\n--new name:  111100092.xml\nold name:  P10_H_100000093.png\n--new name:  111100093.png\nold name:  P10_H_100000093.xml\n--new name:  111100093.xml\nold name:  P10_H_100000094.png\n--new name:  111100094.png\nold name:  P10_H_100000094.xml\n--new name:  111100094.xml\nold name:  P10_H_100000095.png\n--new name:  111100095.png\nold name:  P10_H_100000095.xml\n--new name:  111100095.xml\nold name:  P10_H_100000096.png\n--new name:  111100096.png\nold name:  P10_H_100000096.xml\n--new name:  111100096.xml\nold name:  P10_H_100000097.png\n--new name:  111100097.png\nold name:  P10_H_100000097.xml\n--new name:  111100097.xml\nold name:  P10_H_100000098.png\n--new name:  111100098.png\nold name:  P10_H_100000098.xml\n--new name:  111100098.xml\nold name:  P10_H_100000099.png\n--new name:  111100099.png\nold name:  P10_H_100000099.xml\n--new name:  111100099.xml\nold name:  P10_H_100000100.png\n--new name:  111100100.png\nold name:  P10_H_100000100.xml\n--new name:  111100100.xml\nold name:  P10_H_100000101.png\n--new name:  111100101.png\nold name:  P10_H_100000101.xml\n--new name:  111100101.xml\nold name:  P10_H_100000102.png\n--new name:  111100102.png\nold name:  P10_H_100000102.xml\n--new name:  111100102.xml\nold name:  P10_H_100000103.png\n--new name:  111100103.png\nold name:  P10_H_100000103.xml\n--new name:  111100103.xml\nold name:  P10_H_100000104.png\n--new name:  111100104.png\nold name:  P10_H_100000104.xml\n--new name:  111100104.xml\nold name:  P10_H_100000105.png\n--new name:  111100105.png\nold name:  P10_H_100000105.xml\n--new name:  111100105.xml\nold name:  P10_H_100000106.png\n--new name:  111100106.png\nold name:  P10_H_100000106.xml\n--new name:  111100106.xml\nold name:  P10_H_100000107.png\n--new name:  111100107.png\nold name:  P10_H_100000107.xml\n--new name:  111100107.xml\nold name:  P10_H_100000108.png\n--new name:  111100108.png\nold name:  P10_H_100000108.xml\n--new name:  111100108.xml\nold name:  P10_H_100000109.png\n--new name:  111100109.png\nold name:  P10_H_100000109.xml\n--new name:  111100109.xml\nold name:  P10_H_100000110.png\n--new name:  111100110.png\nold name:  P10_H_100000110.xml\n--new name:  111100110.xml\nold name:  P10_H_100000111.png\n--new name:  111100111.png\nold name:  P10_H_100000111.xml\n--new name:  111100111.xml\nold name:  P10_H_100000112.png\n--new name:  111100112.png\nold name:  P10_H_100000112.xml\n--new name:  111100112.xml\nold name:  P10_H_100000113.png\n--new name:  111100113.png\nold name:  P10_H_100000113.xml\n--new name:  111100113.xml\nold name:  P10_H_100000114.png\n--new name:  111100114.png\nold name: P10_H_100000114.xml\n--new name:  111100114.xml\nold name:  P10_H_100000115.png\n--new name:  111100115.png\nold name:  P10_H_100000115.xml\n--new name:  111100115.xml\nold name:  P10_H_100000116.png\n--new name:  111100116.png\nold name:  P10_H_100000116.xml\n--new name:  111100116.xml\nold name:  P10_H_100000117.png\n--new name:  111100117.png\nold name:  P10_H_100000117.xml\n--new name:  111100117.xml\nold name:  P10_H_100000118.png\n--new name:  111100118.png\nold name:  P10_H_100000118.xml\n--new name:  111100118.xml\nold name:  P10_H_100000119.png\n--new name:  111100119.png\nold name:  P10_H_100000119.xml\n--new name:  111100119.xml\nold name:  P10_H_100000120.png\n--new name:  111100120.png\nold name:  P10_H_100000120.xml\n--new name:  111100120.xml\nold name:  P10_H_100000121.png\n--new name:  111100121.png\nold name:  P10_H_100000121.xml\n--new name:  111100121.xml\nold name:  P10_H_100000122.png\n--new name:  111100122.png\nold name:  P10_H_100000122.xml\n--new name:  111100122.xml\nold name:  P10_H_100000123.png\n--new name:  111100123.png\nold name:  P10_H_100000123.xml\n--new name:  111100123.xml\nold name:  P10_H_100000124.png\n--new name:  111100124.png\nold name:  P10_H_100000124.xml\n--new name:  111100124.xml\nold name:  P10_H_100000125.png\n--new name:  111100125.png\nold name:  P10_H_100000125.xml\n--new name:  111100125.xml\nold name:  P10_H_100000126.png\n--new name:  111100126.png\nold name:  P10_H_100000126.xml\n--new name:  111100126.xml\nold name:  P10_H_100000127.png\n--new name:  111100127.png\nold name:  P10_H_100000127.xml\n--new name:  111100127.xml\nold name:  P10_H_100000128.png\n--new name:  111100128.png\nold name:  P10_H_100000128.xml\n--new name:  111100128.xml\nold name:  P10_H_100000129.png\n--new name:  111100129.png\nold name:  P10_H_100000129.xml\n--new name:  111100129.xml\nold name:  P10_H_100000130.png\n--new name:  111100130.png\nold name:  P10_H_100000130.xml\n--new name:  111100130.xml\nold name:  P10_H_100000131.png\n--new name:  111100131.png\nold name:  P10_H_100000131.xml\n--new name:  111100131.xml\nold name:  P10_H_100000132.png\n--new name:  111100132.png\nold name:  P10_H_100000132.xml\n--new name:  111100132.xml\nold name:  P10_H_100000133.png\n--new name:  111100133.png\nold name:  P10_H_100000133.xml\n--new name:  111100133.xml\nold name:  P10_H_100000134.png\n--new name:  111100134.png\nold name:  P10_H_100000134.xml\n--new name:  111100134.xml\nold name:  P10_H_100000135.png\n--new name:  111100135.png\nold name:  P10_H_100000135.xml\n--new name:  111100135.xml\nold name:  P10_H_100000136.png\n--new name:  111100136.png\nold name:  P10_H_100000136.xml\n--new name:  111100136.xml\nold name:  P10_H_100000137.png\n--new name:  111100137.png\nold name:  P10_H_100000137.xml\n--new name:  111100137.xml\nold name:  P10_H_100000138.png\n--new name:  111100138.png\nold name:  P10_H_100000138.xml\n--new name:  111100138.xml\nold name:  P10_H_100000139.png\n--new name:  111100139.png\nold name:  P10_H_100000139.xml\n--new name:  111100139.xml\nold name:  P10_H_100000140.png\n--new name:  111100140.png\nold name:  P10_H_100000140.xml\n--new name:  111100140.xml\nold name:  P10_H_100000141.png\n--new name:  111100141.png\nold name:  P10_H_100000141.xml\n--new name:  111100141.xml\nold name:  P10_H_100000142.png\n--new name:  111100142.png\nold name:  P10_H_100000142.xml\n--new name:  111100142.xml\nold name:  P10_H_100000143.png\n--new name:  111100143.png\nold name:  P10_H_100000143.xml\n--new name:  111100143.xml\nold name:  P10_H_100000144.png\n--new name:  111100144.png\nold name:  P10_H_100000144.xml\n--new name:  111100144.xml\nold name:  P10_H_100000145.png\n--new name:  111100145.png\nold name:  P10_H_100000145.xml\n--new name:  111100145.xml\nold name:  P10_H_100000146.png\n--new name:  111100146.png\nold name:  P10_H_100000146.xml\n--new name:  111100146.xml\nold name:  P10_H_100000147.png\n--new name:  111100147.png\nold name:  P10_H_100000147.xml\n--new name:  111100147.xml\nold name:  P10_H_100000148.png\n--new name:  111100148.png\nold name:  P10_H_100000148.xml\n--new name:  111100148.xml\nold name:  P10_H_100000149.png\n--new name:  111100149.png\nold name:  P10_H_100000149.xml\n--new name:  111100149.xml\nold name:  P10_H_100000150.png\n--new name:  111100150.png\nold name:  P10_H_100000150.xml\n--new name:  111100150.xml\nold name:  P10_H_100000151.png\n--new name:  111100151.png\nold name:  P10_H_100000151.xml\n--new name:  111100151.xml\nold name:  P10_H_100000152.png\n--new name:  111100152.png\nold name:  P10_H_100000152.xml\n--new name:  111100152.xml\nold name:  P10_H_100000153.png\n--new name:  111100153.png\nold name:  P10_H_100000153.xml\n--new name:  111100153.xml\nold name:  P10_H_100000154.png\n--new name:  111100154.png\nold name:  P10_H_100000154.xml\n--new name:  111100154.xml\nold name:  P10_H_100000155.png\n--new name:  111100155.png\nold name:  P10_H_100000155.xml\n--new name:  111100155.xml\nold name:  P10_H_100000156.png\n--new name:  111100156.png\nold name:  P10_H_100000156.xml\n--new name:  111100156.xml\nold name:  P10_H_100000157.png\n--new name:  111100157.png\nold name:  P10_H_100000157.xml\n--new name:  111100157.xml\nold name:  P10_H_100000158.png\n--new name:  111100158.png\nold name:  P10_H_100000158.xml\n--new name:  111100158.xml\nold name:  P10_H_100000159.png\n--new name:  111100159.png\nold name:  P10_H_100000159.xml\n--new name:  111100159.xml\nold name:  P10_H_100000160.png\n--new name:  111100160.png\nold name:  P10_H_100000160.xml\n--new name:  111100160.xml\nold name:  P10_H_100000161.png\n--new name:  111100161.png\nold name:  P10_H_100000161.xml\n--new name:  111100161.xml\nold name:  P10_H_100000162.png\n--new name:  111100162.png\nold name:  P10_H_100000162.xml\n--new name:  111100162.xml\nold name:  P10_H_100000163.png\n--new name:  111100163.png\nold name:  P10_H_100000163.xml\n--new name:  111100163.xml\nold name:  P10_H_100000164.png\n--new name:  111100164.png\nold name:  P10_H_100000164.xml\n--new name:  111100164.xml\nold name:  P10_H_100000165.png\n--new name:  111100165.png\nold name:  P10_H_100000165.xml\n--new name:  111100165.xml\nold name:  P10_H_100000166.png\n--new name:  111100166.png\nold name:  P10_H_100000166.xml\n--new name:  111100166.xml\nold name:  P10_H_100000167.png\n--new name:  111100167.png\nold name:  P10_H_100000167.xml\n--new name:  111100167.xml\nold name:  P10_H_100000168.png\n--new name:  111100168.png\nold name:  P10_H_100000168.xml\n--new name:  111100168.xml\nold name:  P10_H_100000169.png\n--new name:  111100169.png\nold name:  P10_H_100000169.xml\n--new name:  111100169.xml\nold name:  P10_H_100000170.png\n--new name:  111100170.png\nold name:  P10_H_100000170.xml\n--new name:  111100170.xml\nold name:  P10_H_100000171.png\n--new name:  111100171.png\nold name:  P10_H_100000171.xml\n--new name:  111100171.xml\nold name:  P10_H_100000172.png\n--new name:  111100172.png\nold name:  P10_H_100000172.xml\n--new name:  111100172.xml\nold name:  P10_H_100000173.png\n--new name:  111100173.png\nold name:  P10_H_100000173.xml\n--new name:  111100173.xml\nold name:  P10_H_100000174.png\n--new name:  111100174.png\nold name:  P10_H_100000174.xml\n--new name:  111100174.xml\nold name:  P10_H_100000175.png\n--new name:  111100175.png\nold name:  P10_H_100000175.xml\n--new name:  111100175.xml\nold name:  P10_H_100000176.png\n--new name:  111100176.png\nold name:  P10_H_100000176.xml\n--new name:  111100176.xml\nold name:  P10_H_100000177.png\n--new name:  111100177.png\nold name:  P10_H_100000177.xml\n--new name:  111100177.xml\nold name:  P10_H_100000178.png\n--new name:  111100178.png\nold name:  P10_H_100000178.xml\n--new name:  111100178.xml\nold name:  P10_H_100000179.png\n--new name:  111100179.png\nold name:  P10_H_100000179.xml\n--new name:  111100179.xml\nold name:  P10_H_100000180.png\n--new name:  111100180.png\nold name:  P10_H_100000180.xml\n--new name:  111100180.xml\nold name:  P10_H_100000181.png\n--new name:  111100181.png\nold name:  P10_H_100000181.xml\n--new name:  111100181.xml\nold name:  P10_H_100000182.png\n--new name:  111100182.png\nold name:  P10_H_100000182.xml\n--new name:  111100182.xml\nold name:  P10_H_100000183.png\n--new name:  111100183.png\nold name:  P10_H_100000183.xml\n--new name:  111100183.xml\nold name:  P10_H_100000184.png\n--new name:  111100184.png\nold name:  P10_H_100000184.xml\n--new name:  111100184.xml\nold name:  P10_H_100000185.png\n--new name:  111100185.png\nold name:  P10_H_100000185.xml\n--new name:  111100185.xml\nold name:  P10_H_100000186.png\n--new name:  111100186.png\nold name:  P10_H_100000186.xml\n--new name:  111100186.xml\nold name:  P10_H_100000187.png\n--new name:  111100187.png\nold name:  P10_H_100000187.xml\n--new name:  111100187.xml\nold name:  P10_H_100000188.png\n--new name:  111100188.png\nold name:  P10_H_100000188.xml\n--new name:  111100188.xml\nold name:  P10_H_100000189.png\n--new name:  111100189.png\nold name:  P10_H_100000189.xml\n--new name:  111100189.xml\nold name:  P10_H_100000190.png\n--new name:  111100190.png\nold name: P10_H_100000190.xml\n--new name:  111100190.xml\nold name:  P10_H_100000191.png\n--new name:  111100191.png\nold name:  P10_H_100000191.xml\n--new name:  111100191.xml\nold name:  P10_H_100000192.png\n--new name:  111100192.png\nold name:  P10_H_100000192.xml\n--new name:  111100192.xml\nold name:  P10_H_100000193.png\n--new name:  111100193.png\nold name:  P10_H_100000193.xml\n--new name:  111100193.xml\nold name:  P10_H_100000194.png\n--new name:  111100194.png\nold name:  P10_H_100000194.xml\n--new name:  111100194.xml\nold name:  P10_H_100000195.png\n--new name:  111100195.png\nold name:  P10_H_100000195.xml\n--new name:  111100195.xml\nold name:  P10_H_100000196.png\n--new name:  111100196.png\nold name:  P10_H_100000196.xml\n--new name:  111100196.xml\nold name:  P10_H_100000197.png\n--new name:  111100197.png\nold name:  P10_H_100000197.xml\n--new name:  111100197.xml\nold name:  P10_H_100000198.png\n--new name:  111100198.png\nold name:  P10_H_100000198.xml\n--new name:  111100198.xml\nold name:  P10_H_100000199.png\n--new name:  111100199.png\nold name:  P10_H_100000199.xml\n--new name:  111100199.xml\nold name:  P10_H_100000200.png\n--new name:  111100200.png\nold name:  P10_H_100000200.xml\n--new name:  111100200.xml\nold name:  P10_H_100000201.png\n--new name:  111100201.png\nold name:  P10_H_100000201.xml\n--new name:  111100201.xml\nold name:  P10_H_100000202.png\n--new name:  111100202.png\nold name:  P10_H_100000202.xml\n--new name:  111100202.xml\nold name:  P10_H_100000203.png\n--new name:  111100203.png\nold name:  P10_H_100000203.xml\n--new name:  111100203.xml\nold name:  P10_H_100000204.png\n--new name:  111100204.png\nold name:  P10_H_100000204.xml\n--new name:  111100204.xml\nold name:  P10_H_100000205.png\n--new name:  111100205.png\nold name:  P10_H_100000205.xml\n--new name:  111100205.xml\nold name:  P10_H_100000206.png\n--new name:  111100206.png\nold name:  P10_H_100000206.xml\n--new name:  111100206.xml\nold name:  P10_H_100000207.png\n--new name:  111100207.png\nold name:  P10_H_100000207.xml\n--new name:  111100207.xml\nold name:  P10_H_100000208.png\n--new name:  111100208.png\nold name:  P10_H_100000208.xml\n--new name:  111100208.xml\nold name:  P10_H_100000209.png\n--new name:  111100209.png\nold name:  P10_H_100000209.xml\n--new name:  111100209.xml\nold name:  P10_H_100000210.png\n--new name:  111100210.png\nold name:  P10_H_100000210.xml\n--new name:  111100210.xml\nold name:  P10_H_100000211.png\n--new name:  111100211.png\nold name:  P10_H_100000211.xml\n--new name:  111100211.xml\nold name:  P10_H_100000212.png\n--new name:  111100212.png\nold name:  P10_H_100000212.xml\n--new name:  111100212.xml\nold name:  P10_H_100000213.png\n--new name:  111100213.png\nold name:  P10_H_100000213.xml\n--new name:  111100213.xml\nold name:  P10_H_100000214.png\n--new name:  111100214.png\nold name:  P10_H_100000214.xml\n--new name:  111100214.xml\nold name:  P10_H_100000215.png\n--new name:  111100215.png\nold name:  P10_H_100000215.xml\n--new name:  111100215.xml\nold name:  P10_H_100000216.png\n--new name:  111100216.png\nold name:  P10_H_100000216.xml\n--new name:  111100216.xml\nold name:  P10_H_100000217.png\n--new name:  111100217.png\nold name:  P10_H_100000217.xml\n--new name:  111100217.xml\nold name:  P10_H_100000218.png\n--new name:  111100218.png\nold name:  P10_H_100000218.xml\n--new name:  111100218.xml\nold name:  P10_H_100000219.png\n--new name:  111100219.png\nold name:  P10_H_100000219.xml\n--new name:  111100219.xml\nold name:  P10_H_100000220.png\n--new name:  111100220.png\nold name:  P10_H_100000220.xml\n--new name:  111100220.xml\nold name:  P10_H_100000221.png\n--new name:  111100221.png\nold name:  P10_H_100000221.xml\n--new name:  111100221.xml\nold name:  P10_H_100000222.png\n--new name:  111100222.png\nold name:  P10_H_100000222.xml\n--new name:  111100222.xml\nold name:  P10_H_100000223.png\n--new name:  111100223.png\nold name:  P10_H_100000223.xml\n--new name:  111100223.xml\nold name:  P10_H_100000224.png\n--new name:  111100224.png\nold name:  P10_H_100000224.xml\n--new name:  111100224.xml\n"
    }
   ],
   "source": [
    "\n",
    "for fi in f:\n",
    "    if 'P10_H_' in fi: #逆时针变1\n",
    "        old_name = path+'/'+fi\n",
    "        print('old name: ',fi)\n",
    "        tmp = list(fi)\n",
    "        # 改角度\n",
    "        tmp[-4-4-2]='1'\n",
    "        tmp[-4-4-2-1]='1' #逆时针为 1\n",
    "        # 改翻转\n",
    "        tmp[-4-4-2-1-1]='1'\n",
    "        tmp = ''.join(tmp)\n",
    "        tmp = tmp.replace('P10_H_','')\n",
    "        print('--new name: ',tmp)\n",
    "        # os.chdir(path)\n",
    "        new_name = path+'/'+tmp\n",
    "        os.rename(old_name,new_name)\n",
    "        #复制\n",
    "        # new_name = path2+'/'+tmp\n",
    "        # shutil.copyfile(old_name, new_name)\n",
    "        \n",
    "\n",
    "    elif 'P-10_H_' in fi: #顺时针不变\n",
    "        old_name = path+'/'+fi\n",
    "        print('old name: ',fi)\n",
    "        tmp = list(fi)\n",
    "        # 改角度\n",
    "        tmp[-4-4-2]='1'\n",
    "        # 改翻转\n",
    "        tmp[-4-4-2-1-1]='1'\n",
    "        tmp = ''.join(tmp)\n",
    "        tmp = tmp.replace('P-10_H_','')\n",
    "        print('--new name: ',tmp)\n",
    "        # os.chdir(path)\n",
    "        new_name = path+'/'+tmp\n",
    "        os.rename(old_name,new_name)\n",
    "        #复制\n",
    "        # new_name = path2+'/'+tmp\n",
    "        # shutil.copyfile(old_name, new_name)\n",
    "\n",
    "    elif 'P-10_' in fi: #顺时针不变\n",
    "        old_name = path+'/'+fi\n",
    "        print('old name: ',fi)\n",
    "        tmp = list(fi)\n",
    "        # 改角度\n",
    "        tmp[-4-4-2]='1'\n",
    "        tmp = ''.join(tmp)\n",
    "        tmp = tmp.replace('P-10_','')\n",
    "        print('--new name: ',tmp)\n",
    "        # os.chdir(path)\n",
    "        new_name = path+'/'+tmp\n",
    "        os.rename(old_name,new_name)\n",
    "        #复制\n",
    "        # new_name = path2+'/'+tmp\n",
    "        # shutil.copyfile(old_name, new_name)\n",
    "\n",
    "    elif 'P10_' in fi: #逆时针变1\n",
    "        old_name = path+'/'+fi\n",
    "        print('old name: ',fi)\n",
    "        tmp = list(fi)\n",
    "        # 改角度\n",
    "        tmp[-4-4-2]='1'\n",
    "        tmp[-4-4-2-1]='1' #逆时针为 1\n",
    "        tmp = ''.join(tmp)\n",
    "        tmp = tmp.replace('P10_','')\n",
    "        print('--new name: ',tmp)\n",
    "        # os.chdir(path)\n",
    "        new_name = path+'/'+tmp\n",
    "        os.rename(old_name,new_name)\n",
    "        #复制\n",
    "        # new_name = path2+'/'+tmp\n",
    "        # shutil.copyfile(old_name, new_name)\n",
    "    \n",
    "\n",
    "    elif 'H_' in fi: #水平翻转\n",
    "        old_name = path+'/'+fi\n",
    "        print('old name: ',fi)\n",
    "        tmp = list(fi)\n",
    "        # 改翻转\n",
    "        tmp[-4-4-2-1-1]='1'\n",
    "        tmp = ''.join(tmp)\n",
    "        tmp = tmp.replace('H_','')\n",
    "        print('--new name: ',tmp)\n",
    "        # os.chdir(path)\n",
    "        new_name = path+'/'+tmp\n",
    "        os.rename(old_name,new_name)\n",
    "        #复制\n",
    "        # new_name = path2+'/'+tmp\n",
    "        # shutil.copyfile(old_name, new_name)\n",
    "\n",
    "    else:\n",
    "        continue\n",
    "\n",
    "    "
   ]
  },
  {
   "cell_type": "code",
   "execution_count": null,
   "metadata": {},
   "outputs": [],
   "source": []
  }
 ]
}